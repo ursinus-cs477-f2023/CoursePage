{
 "cells": [
  {
   "cell_type": "code",
   "execution_count": null,
   "id": "73d44fd3",
   "metadata": {},
   "outputs": [],
   "source": [
    "import numpy as np\n",
    "import numpy.linalg as linalg\n",
    "import matplotlib.pyplot as plt\n",
    "\n",
    "\n",
    "N = 10\n",
    "np.random.seed(0)\n",
    "x = np.linspace(0, 1, N)\n",
    "y = x + 0.1*np.random.randn(x.size)\n",
    "x_test = np.linspace(-0.5, 1.5, N)\n",
    "y_test = x_test + 0.1*np.random.randn(x_test.size)\n",
    "plt.scatter(x, y)\n",
    "plt.scatter(x_test, y_test)\n",
    "plt.axis(\"equal\")"
   ]
  },
  {
   "cell_type": "code",
   "execution_count": null,
   "id": "8d943189",
   "metadata": {},
   "outputs": [],
   "source": [
    "def polyeval(xs, u):\n",
    "    res = xs[:, None]**(np.arange(u.size)[None, :])\n",
    "    return np.sum(res*u[None, :], axis=1)\n",
    "\n",
    "p = 1\n",
    "A = (x[:, None])**(np.arange(p+1)[None, :])\n",
    "u = np.linalg.inv(A.T.dot(A)).dot(A.T).dot(y)\n",
    "\n",
    "x2 = np.linspace(-0.5, 1.5, 100)\n",
    "y2 = polyeval(x2, u)\n",
    "\n",
    "plt.plot(x2, y2)\n",
    "plt.scatter(x, y)\n",
    "plt.scatter(x_test, y_test)\n",
    "plt.ylim([-0.5, 1.5])\n",
    "\n",
    "train_err = np.sum(np.abs(polyeval(x, u) - y))\n",
    "test_err = np.sum(np.abs(polyeval(x_test, u) - y_test))\n",
    "total = train_err + test_err\n",
    "plt.title(\"Train Err: {:.3f}, Test Err: {:.3f} (Total {:.3f})\".format(train_err, test_err, total))"
   ]
  },
  {
   "cell_type": "code",
   "execution_count": null,
   "id": "91783954",
   "metadata": {},
   "outputs": [],
   "source": []
  }
 ],
 "metadata": {
  "kernelspec": {
   "display_name": "Python 3 (ipykernel)",
   "language": "python",
   "name": "python3"
  },
  "language_info": {
   "codemirror_mode": {
    "name": "ipython",
    "version": 3
   },
   "file_extension": ".py",
   "mimetype": "text/x-python",
   "name": "python",
   "nbconvert_exporter": "python",
   "pygments_lexer": "ipython3",
   "version": "3.11.3"
  }
 },
 "nbformat": 4,
 "nbformat_minor": 5
}
