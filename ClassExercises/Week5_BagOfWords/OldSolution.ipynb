{
 "cells": [
  {
   "cell_type": "markdown",
   "id": "2b4c142d",
   "metadata": {},
   "source": [
    "# Text Bag of Words with Naive Bayes\n",
    "\n",
    "## Chris Tralie\n"
   ]
  },
  {
   "cell_type": "code",
   "execution_count": 1,
   "id": "8038eac0",
   "metadata": {},
   "outputs": [],
   "source": [
    "import numpy as np\n",
    "import matplotlib.pyplot as plt\n",
    "import glob"
   ]
  },
  {
   "cell_type": "code",
   "execution_count": 2,
   "id": "cf5b9b16",
   "metadata": {},
   "outputs": [],
   "source": [
    "def estimate_log_prob_params(strings):\n",
    "    \"\"\"\n",
    "    Estimate the log multinomial probability parameters for a\n",
    "    particular set of strings.  This will be our model\n",
    "    \n",
    "    Parameters\n",
    "    ----------\n",
    "    strings: list of string\n",
    "        A list of strings\n",
    "    \n",
    "    Returns\n",
    "    -------\n",
    "    probs: dict\n",
    "        word->log probability in model\n",
    "    total: int\n",
    "        Total number of words in the model, plus smoothing\n",
    "    \"\"\"\n",
    "    probs = {}\n",
    "    total = 0\n",
    "    for s in strings:\n",
    "        for word in s.split():\n",
    "            if not word in probs:\n",
    "                probs[word] = 1 # Do this for smoothing\n",
    "                total += 1\n",
    "            probs[word] += 1\n",
    "            total += 1\n",
    "    # Convert to log probabilities\n",
    "    for word in probs:\n",
    "        probs[word] = np.log(probs[word]/total)\n",
    "    return (probs, total)\n",
    "\n",
    "def get_log_probability_words(model, words):\n",
    "    \"\"\"\n",
    "    Compute the log probability of a set of words using\n",
    "    a model\n",
    "    \n",
    "    Parameters\n",
    "    ----------\n",
    "    model: (probs, total)\n",
    "        probs: dict\n",
    "            word->log probability in model\n",
    "        total: int\n",
    "            Total number of words in the model, plus smoothing\n",
    "    words: list of string\n",
    "        Words to which to apply the model\n",
    "    \n",
    "    Returns\n",
    "    -------\n",
    "    float: The log probability of the set of words under the model\n",
    "    \"\"\"\n",
    "    (probs, total) = model\n",
    "    res = 0\n",
    "    for word in words:\n",
    "        if not word in probs:\n",
    "            # If this word has never been seen, give it a low\n",
    "            # but nonzero probability before taking the log\n",
    "            res += np.log(1/total)\n",
    "        else:\n",
    "            res += probs[word] \n",
    "    return res"
   ]
  },
  {
   "cell_type": "markdown",
   "id": "764a5bce",
   "metadata": {},
   "source": [
    "# 2016 Presidential Debates\n",
    "\n",
    "First, we load the first two debates and use them to build two different bag of words models: one for Trump and one for Clinton.  Below is some code that uses lists so we don't have to repeat the same code too much\n"
   ]
  },
  {
   "cell_type": "code",
   "execution_count": 3,
   "id": "16647643",
   "metadata": {},
   "outputs": [],
   "source": [
    "categories = [\"clinton\", \"trump\"]\n",
    "models = []\n",
    "for c in categories:\n",
    "    fin = open(\"text/2016Debates/{}1.txt\".format(c))\n",
    "    strings = [fin.read()]\n",
    "    fin.close()\n",
    "    fin = open(\"text/2016Debates/{}2.txt\".format(c))\n",
    "    strings.append(fin.read())\n",
    "    fin.close()\n",
    "    model = estimate_log_prob_params(strings)\n",
    "    models.append(model)"
   ]
  },
  {
   "cell_type": "markdown",
   "id": "3c5c9553",
   "metadata": {},
   "source": [
    "Next, we apply the models to each example in the third debate, and we get nearly perfect accuracy!  In the process, we construct something called a \"confusion matrix,\" where the row is the true class of the example we're classifying, and the columns count how often they were classified as another class.  The more elements along the diagonal, the better"
   ]
  },
  {
   "cell_type": "code",
   "execution_count": 4,
   "id": "fca7c51d",
   "metadata": {},
   "outputs": [
    {
     "data": {
      "image/png": "[encoded data removed]",
      "text/plain": [
       "<Figure size 432x288 with 1 Axes>"
      ]
     },
     "metadata": {
      "needs_background": "light"
     },
     "output_type": "display_data"
    }
   ],
   "source": [
    "# Apply test data\n",
    "confusion = np.zeros((2, 2), dtype=int)\n",
    "for i, c in enumerate(categories):\n",
    "    for f in glob.glob(\"text/2016Debates/{}3*.txt\".format(c)):\n",
    "        fin = open(f)\n",
    "        test = fin.read()\n",
    "        words = test.split()\n",
    "        log_probs = [get_log_probability_words(models[j], words) for j in range(len(categories))]\n",
    "        j = np.argmax(log_probs)\n",
    "        confusion[i, j] += 1\n",
    "        fin.close()\n",
    "#print(confusion, \":\", np.sum(np.diag(confusion))/np.sum(confusion), \"accuracy\")\n",
    "\n",
    "plt.imshow(confusion)\n",
    "for i in range(len(confusion)):\n",
    "    for j in range(len(confusion)):\n",
    "        plt.text(j, i, confusion[i, j])\n",
    "plt.xticks(np.arange(len(confusion)), categories)\n",
    "plt.yticks(np.arange(len(confusion)), categories)\n",
    "plt.title(\"{:f}%s Accuracy\".format(100*np.sum(np.diag(confusion))/np.sum(confusion)));"
   ]
  },
  {
   "cell_type": "code",
   "execution_count": null,
   "id": "933bcced",
   "metadata": {},
   "outputs": [],
   "source": []
  }
 ],
 "metadata": {
  "kernelspec": {
   "display_name": "Python 3",
   "language": "python",
   "name": "python3"
  },
  "language_info": {
   "codemirror_mode": {
    "name": "ipython",
    "version": 3
   },
   "file_extension": ".py",
   "mimetype": "text/x-python",
   "name": "python",
   "nbconvert_exporter": "python",
   "pygments_lexer": "ipython3",
   "version": "3.8.8"
  }
 },
 "nbformat": 4,
 "nbformat_minor": 5
}
