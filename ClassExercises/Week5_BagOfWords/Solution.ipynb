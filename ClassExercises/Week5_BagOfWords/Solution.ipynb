{
 "cells": [
  {
   "cell_type": "markdown",
   "id": "b928c1cd",
   "metadata": {},
   "source": [
    "First, we'll loop through all of the *training data*, which is all of the words for the first two debates for both Trump and Clinton.  We'll then keep track of the count of each word using a dictionary whose key is the word and whose value is the count.  As suggested by Matt S. in class, we'll use the empty string \"\" to store total number of words"
   ]
  },
  {
   "cell_type": "code",
   "execution_count": 1,
   "id": "ccbe5274",
   "metadata": {},
   "outputs": [],
   "source": [
    "import numpy as np\n",
    "\n",
    "counts = {}\n",
    "for speaker in [\"clinton\", \"trump\"]:\n",
    "    counts[speaker] = {\"\":0}\n",
    "    for debate in [1, 2]:\n",
    "        fin = open(\"text/2016Debates/{}{}.txt\".format(speaker, debate))\n",
    "        text = fin.read()\n",
    "        fin.close()\n",
    "        for word in text.split(): # Take out each word in the debate\n",
    "            word = word.rstrip() # Get rid of line breaks, etc\n",
    "            if not word in counts[speaker]:\n",
    "                counts[speaker][word] = 0\n",
    "            counts[speaker][word] += 1\n",
    "            counts[speaker][\"\"] += 1   "
   ]
  },
  {
   "cell_type": "code",
   "execution_count": 2,
   "id": "028ad35a",
   "metadata": {},
   "outputs": [
    {
     "name": "stdout",
     "output_type": "stream",
     "text": [
      "clinton total words: 12330\n",
      "trump total words: 15143\n"
     ]
    }
   ],
   "source": [
    "## Total number of words for each speaker\n",
    "print(\"clinton total words:\", counts['clinton'][\"\"])\n",
    "print(\"trump total words:\", counts['trump'][\"\"])"
   ]
  },
  {
   "cell_type": "markdown",
   "id": "1b355a65",
   "metadata": {},
   "source": [
    "Now we'll loop through each paragraph from the third debate and compute the lob probability under the clinton model and under the trump model"
   ]
  },
  {
   "cell_type": "code",
   "execution_count": 3,
   "id": "345f329b",
   "metadata": {},
   "outputs": [
    {
     "name": "stdout",
     "output_type": "stream",
     "text": [
      "clinton Debate 0: Correct!\n",
      "clinton Debate 1: Correct!\n",
      "clinton Debate 2: Correct!\n",
      "clinton Debate 3: Correct!\n",
      "clinton Debate 4: Correct!\n",
      "clinton Debate 5: Correct!\n",
      "clinton Debate 6: Correct!\n",
      "clinton Debate 7: Correct!\n",
      "clinton Debate 8: Correct!\n",
      "clinton Debate 9: Correct!\n",
      "clinton Debate 10: Correct!\n",
      "clinton Debate 11: Correct!\n",
      "clinton Debate 12: Correct!\n",
      "clinton Debate 13: Correct!\n",
      "clinton Debate 14: Correct!\n",
      "clinton Debate 15: Correct!\n",
      "clinton Debate 16: Correct!\n",
      "clinton Debate 17: Correct!\n",
      "clinton Debate 18: Correct!\n",
      "clinton Debate 19: Correct!\n",
      "clinton Debate 20: Correct!\n",
      "clinton Debate 21: Correct!\n",
      "clinton Debate 22: Correct!\n",
      "clinton Debate 23: Correct!\n",
      "clinton Debate 24: Correct!\n",
      "clinton Debate 25: Correct!\n",
      "clinton Debate 26: Correct!\n",
      "clinton Debate 27: Correct!\n",
      "clinton Debate 28: Correct!\n",
      "clinton Debate 29: Correct!\n",
      "clinton Debate 30: Correct!\n",
      "clinton Debate 31: Correct!\n",
      "clinton Debate 32: Correct!\n",
      "clinton Debate 33: Correct!\n",
      "clinton Debate 34: Correct!\n",
      "clinton Debate 35: Correct!\n",
      "clinton Debate 36: Correct!\n",
      "clinton Debate 37: Correct!\n",
      "clinton Debate 38: Correct!\n",
      "clinton Debate 39: Correct!\n",
      "trump Debate 0: Correct!\n",
      "trump Debate 1: Correct!\n",
      "trump Debate 2: Incorrect :(\n",
      "trump Debate 3: Incorrect :(\n",
      "trump Debate 4: Incorrect :(\n",
      "trump Debate 5: Correct!\n",
      "trump Debate 6: Correct!\n",
      "trump Debate 7: Correct!\n",
      "trump Debate 8: Correct!\n",
      "trump Debate 9: Correct!\n",
      "trump Debate 10: Correct!\n",
      "trump Debate 11: Correct!\n",
      "trump Debate 12: Correct!\n",
      "trump Debate 13: Correct!\n",
      "trump Debate 14: Correct!\n",
      "trump Debate 15: Correct!\n",
      "trump Debate 16: Correct!\n",
      "trump Debate 17: Correct!\n",
      "trump Debate 18: Correct!\n",
      "trump Debate 19: Correct!\n",
      "trump Debate 20: Incorrect :(\n",
      "trump Debate 21: Correct!\n",
      "trump Debate 22: Correct!\n",
      "trump Debate 23: Correct!\n",
      "trump Debate 24: Correct!\n",
      "trump Debate 25: Correct!\n",
      "trump Debate 26: Correct!\n",
      "trump Debate 27: Correct!\n",
      "trump Debate 28: Correct!\n",
      "trump Debate 29: Correct!\n",
      "trump Debate 30: Correct!\n",
      "trump Debate 31: Correct!\n",
      "trump Debate 32: Correct!\n",
      "trump Debate 33: Correct!\n",
      "trump Debate 34: Correct!\n",
      "trump Debate 35: Correct!\n",
      "trump Debate 36: Correct!\n",
      "trump Debate 37: Correct!\n",
      "trump Debate 38: Correct!\n",
      "trump Debate 39: Correct!\n"
     ]
    }
   ],
   "source": [
    "import glob\n",
    "\n",
    "for ground_truth in [\"clinton\", \"trump\"]:\n",
    "    # Loop through the clinton debates, then the trump debates\n",
    "    for i, f in enumerate(glob.glob(\"text/2016Debates/{}3*.txt\".format(ground_truth))):\n",
    "        fin = open(f)\n",
    "        test = fin.read()\n",
    "        fin.close()\n",
    "        \n",
    "        ## Compute the naive bayes log posterior likelihood given each class\n",
    "        results = []\n",
    "        for speaker_class in [\"clinton\", \"trump\"]:\n",
    "            denom = counts[speaker_class][\"\"] + len(counts[speaker_class]) # Add on unique words for smoothing\n",
    "            # Start off with prior probability\n",
    "            p = np.log(counts[speaker_class][\"\"] / (counts[\"clinton\"][\"\"] + counts[\"trump\"][\"\"]))\n",
    "            for word in test.lower().split():\n",
    "                word = word.rstrip()\n",
    "                if word in counts[speaker_class]:\n",
    "                    # Probability is estimated as counts of this particular word\n",
    "                    # over the total number of words the speaker said.\n",
    "                    # We add on 1 to deal with smoothing for missing words\n",
    "                    p_word = (1+counts[speaker_class][word]) / denom\n",
    "                else:\n",
    "                    # If this word was never said by this speaker in the training data,\n",
    "                    # we give it a small, but nonzero, probability\n",
    "                    p_word = 1/denom\n",
    "                # Under the naive bayes assumption, each word is a new, independent\n",
    "                # observation.  So we'd just accumulate multiply that probability with \n",
    "                # what we've seen so far.  To prevent numerical underflow, we're actually\n",
    "                # taking the log of the probability at the end, so multiplying corresponds\n",
    "                # to a sum of the log\n",
    "                p += np.log(p_word)\n",
    "            results.append(p)\n",
    "        # Pick the class with the maximum log posterior likelihood\n",
    "        speaker_guess = [\"clinton\", \"trump\"][np.argmax(results)]\n",
    "        # Check to see if this is correct\n",
    "        result = \"Correct!\"\n",
    "        if speaker_guess != ground_truth:\n",
    "            result = \"Incorrect :(\"\n",
    "        print(\"{} Debate {}: {}\".format(ground_truth, i, result))\n"
   ]
  },
  {
   "cell_type": "code",
   "execution_count": null,
   "id": "a4e5ec3e",
   "metadata": {},
   "outputs": [],
   "source": []
  }
 ],
 "metadata": {
  "kernelspec": {
   "display_name": "Python 3 (ipykernel)",
   "language": "python",
   "name": "python3"
  },
  "language_info": {
   "codemirror_mode": {
    "name": "ipython",
    "version": 3
   },
   "file_extension": ".py",
   "mimetype": "text/x-python",
   "name": "python",
   "nbconvert_exporter": "python",
   "pygments_lexer": "ipython3",
   "version": "3.11.3"
  }
 },
 "nbformat": 4,
 "nbformat_minor": 5
}
